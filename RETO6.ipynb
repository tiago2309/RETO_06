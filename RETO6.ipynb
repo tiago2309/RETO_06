{
 "cells": [
  {
   "cell_type": "markdown",
   "id": "b766d4ca",
   "metadata": {},
   "source": [
    "# Reto 6\n",
    "A continuación veremos el desarrollo de los ejercicios puestos para este reto\n",
    "### 1: Cuadrados de los números del 1 al 100.\n",
    "Imprimir un listado con los números del 1 al 100 cada uno con su respectivo cuadrado."
   ]
  },
  {
   "cell_type": "code",
   "execution_count": null,
   "id": "aa3c7803",
   "metadata": {},
   "outputs": [],
   "source": [
    "def imprimir_cuadrados():\n",
    "    \"\"\"\n",
    "    Imprime los números del 1 al 100 con sus respectivos cuadrados.\n",
    "    \"\"\"\n",
    "    numero = 1 # Iniciamos definiendo la variable en 1\n",
    "    while numero <= 100: # Se utiliza el ciclo while para recorrer todos los números del 1 al 100\n",
    "        cuadrado = numero ** 2 #  Calculamos el cuadrado del número\n",
    "        print(f\"{numero}^2 = {numero**2}\") # Imprimimos el número y su cuadrado\n",
    "        numero += 1 #Incrementamos el número en 1 y así hasta que llegue a 100\n",
    "        \n",
    "if __name__ == \"__main__\":\n",
    "    imprimir_cuadrados()"
   ]
  },
  {
   "cell_type": "markdown",
   "id": "524bea84",
   "metadata": {},
   "source": [
    "### 2. Números pares e impares del 1 al 1000\n",
    "Imprimir un listado con los números impares desde 1 hasta 999 y seguidamente otro listado con los números pares desde 2 hasta 1000."
   ]
  },
  {
   "cell_type": "code",
   "execution_count": null,
   "id": "01cdcda4",
   "metadata": {},
   "outputs": [],
   "source": [
    "def numeros_impares():\n",
    "    \"\"\"\n",
    "    Imprime los numeros impares del 1 al 1000\n",
    "    Comienza en el 1 y suma de 2 en 2 hasta llegar a 1000\n",
    "    \"\"\"\n",
    "\n",
    "    num = 1 # Dar el primer valor impar\n",
    "    while num <= 1000: # Se utiliza el ciclo while para recorrer todos los números menores a 1000\n",
    "        print(num) # Imprimir el número impar actual\n",
    "        num += 2 # Sumar 2 para avanzar al siguiente impar\n",
    "\n",
    "def numeros_pares():\n",
    "    \"\"\"\n",
    "    Imprime los números pares del 1 al 1000\n",
    "    Comienza en el 2 y suma de 2 en 2 hasta llegar a 1000\n",
    "    \"\"\"\n",
    "\n",
    "    num = 2 # Dar el primer valor par\n",
    "    while num <= 1000: # Se utiliza el ciclo while para recorrer todos los números menores a 1000\n",
    "        print(num) # Imprimir el número par actual\n",
    "        num += 2 # Sumar 2 para avanzar al siguiente par\n",
    "\n",
    "if __name__ == \"__main__\":\n",
    "    print(\"Pares del 1 al 1000\") # Título para lo pares\n",
    "    numeros_pares() # Llamada a la función de los pares\n",
    "    \n",
    "    print(\"Impares del 1 al 1000\") # Título para los impares\n",
    "    numeros_impares() # Llamada a la función de los impares"
   ]
  },
  {
   "cell_type": "markdown",
   "id": "2dad0027",
   "metadata": {},
   "source": [
    "### 3. Números pares descendentes de n\n",
    "Imprimir los números pares en forma descendente hasta 2 que son menores o iguales a un número natural n ≥ 2 dado"
   ]
  },
  {
   "cell_type": "code",
   "execution_count": null,
   "id": "e1e38b75",
   "metadata": {},
   "outputs": [],
   "source": [
    "def numeros_pares_descendentes(n):\n",
    "    \"\"\"\n",
    "    Imprime los números pares en orden descendente desde n hasta 2.\n",
    "\n",
    "    Parámetros: \n",
    "    - n (int): Número natural mayor o igual a 2\n",
    "    Si n es impar, se reduce 1 para comenzar desde el par más cercano\n",
    "    \"\"\"\n",
    "    if n % 2 != 0: # Revisamos si n es par o impar dependiendo de su módulo, si su residuo es 0 es par, si es 1 es impar.\n",
    "        n -= 1 # Ajuste si n es impar, se resta 1 y así empezamos desde el impar anterior.\n",
    "    while n >= 2: # Se utiliza el ciclo while para recorrer todos los números mayores a 2 \n",
    "        print(n) # Imprimir el número par actual\n",
    "        n -=2 # Se resta 2 para ir al siguiente par menor\n",
    "\n",
    "# Punto de entrada del usuario\n",
    "if __name__ == \"__main__\":\n",
    "    n = int(input(\"Ingrese un número natural mayor o igual a 2: \")) # Solicitar al usuario que digite un número\n",
    "    numeros_pares_descendentes(n) # Llamada a la función de los pares descentendes"
   ]
  },
  {
   "cell_type": "markdown",
   "id": "241cd6d8",
   "metadata": {},
   "source": [
    "### 4. Factorial de n\n",
    "Imprimir el factorial de un número natural n dado."
   ]
  },
  {
   "cell_type": "code",
   "execution_count": null,
   "id": "aa7982aa",
   "metadata": {},
   "outputs": [],
   "source": [
    "def factorial_numero(n):\n",
    "    \"\"\"\n",
    "    Calcula el factorial de un número natural dado por el usuario (n! = n * (n-1) * ... * 1).\n",
    "    \"\"\"\n",
    "    factorial = 1 # Iniciamos con el factorial en 1\n",
    "    while n > 1:\n",
    "        factorial *= n # Multiplicamos el acumulado por el valor actual de n\n",
    "        n -= 1 # Decrementamos n una unidad\n",
    "    return factorial # Devolvemos el resultado final\n",
    "\n",
    "if __name__ == \"__main__\":\n",
    "    n = int(input(\"Ingrese un número natural: \")) # Solicitamos al usuario que ingrese un número\n",
    "    print(f\"El factorial de {n} es: {factorial_numero(n)}\") # Llamada a la función que calcula el factorial"
   ]
  },
  {
   "cell_type": "markdown",
   "id": "73744fc1",
   "metadata": {},
   "source": [
    "### 5. Divisores de n, si 2 <= n <= 50\n",
    "Implementar un programa que ingrese un número de 2 a 50 y muestre sus divisores."
   ]
  },
  {
   "cell_type": "code",
   "execution_count": null,
   "id": "153fdb1a",
   "metadata": {},
   "outputs": [],
   "source": [
    "def divisores_numero(n):\n",
    "    \"\"\"\n",
    "    Imprime todos los dividores exactos del numero dado por el usuario\n",
    "\n",
    "    Parámetros:\n",
    "    - n(int): Número entre 2 y 50\n",
    "    \"\"\"\n",
    "    print(f\"Divisores de {n}:\") # Encabezado de salida\n",
    "    divisor = 1 # Se empieza desde el 1\n",
    "    while divisor <= n: # Se utiliza el ciclo while para recorrer todos los números menores o iguales a n\n",
    "        if n % divisor == 0: # Se valida si el módulo de n es igual a 0\n",
    "            print(divisor) # Se imprime si el divisor es exacto\n",
    "        divisor += 1 # Se incrementa una unidad para probar el siguiente número\n",
    "\n",
    "if __name__ == \"__main__\":\n",
    "    n = int(input(\"Ingrese un numero entre 2 y 50: \")) # Solicitamos al usuario que ingrese un numero dentro del rango\n",
    "    if 2 <= n <= 50: \n",
    "        divisores_numero(n) # Llamada a la función de los divisores si n está dentro del rango\n",
    "    else:\n",
    "        print(\"Numero fuera del rango\") # Mensaje de error si n está fuera del rango"
   ]
  },
  {
   "cell_type": "markdown",
   "id": "09c25ff1",
   "metadata": {},
   "source": [
    "### 6. Números primos del 1 al 100\n",
    "Implementar el algoritmo que muestre los números primos del 1 al 100. Nota: use funciones"
   ]
  },
  {
   "cell_type": "code",
   "execution_count": null,
   "id": "99ca677c",
   "metadata": {},
   "outputs": [],
   "source": [
    "def es_primo(n):\n",
    "    \"\"\"\n",
    "    Determina si un número es primo.\n",
    "    \"\"\"\n",
    "    if n < 2: \n",
    "        return False # Establece que por definicion 0 y 1 no son primos\n",
    "    divisor = 2 # Comenzamos a probar desde el 2\n",
    "    while divisor * divisor <= n: # Hacer la simulacion de sacar la raíz cuadrada de n, para no usar math.sqrt()\n",
    "        if n % divisor == 0: # Comprobar si n es divisible por el divisor\n",
    "            return False # Si el residuo es 0 entonces n no es primo\n",
    "        divisor += 1 # Avanza al siguiente posible divisor\n",
    "    return True # Si no se encontró divisor entonces es primo\n",
    "\n",
    "def numeros_primos():\n",
    "    \"\"\"\n",
    "    Imprime todos los números del 1 al 100\n",
    "    Recorre cada número y lo imprime si es primo\n",
    "    \"\"\"\n",
    "    print(\"Numeros primos del 1 al 100:\")\n",
    "    for i in range(1, 100): # Recorre el rango establecido\n",
    "        if es_primo(i):\n",
    "            print(i) # Imprime solo si es primo\n",
    "\n",
    "if __name__ == \"__main__\":\n",
    "    numeros_primos()"
   ]
  }
 ],
 "metadata": {
  "kernelspec": {
   "display_name": "Python 3",
   "language": "python",
   "name": "python3"
  },
  "language_info": {
   "codemirror_mode": {
    "name": "ipython",
    "version": 3
   },
   "file_extension": ".py",
   "mimetype": "text/x-python",
   "name": "python",
   "nbconvert_exporter": "python",
   "pygments_lexer": "ipython3",
   "version": "3.10.11"
  }
 },
 "nbformat": 4,
 "nbformat_minor": 5
}
